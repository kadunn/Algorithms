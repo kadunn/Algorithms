{
 "cells": [
  {
   "cell_type": "code",
   "execution_count": 34,
   "metadata": {},
   "outputs": [],
   "source": [
    "import pandas as pd\n",
    "import numpy as np"
   ]
  },
  {
   "cell_type": "markdown",
   "metadata": {},
   "source": [
    "# Naive Bayes Classifier \n",
    "## Numpy Implementation"
   ]
  },
  {
   "cell_type": "code",
   "execution_count": 271,
   "metadata": {
    "scrolled": false
   },
   "outputs": [],
   "source": [
    "def get_results(x_input, X, Y):\n",
    "    return {j: (\n",
    "                (sum(Y==j) / Y.shape[0]) \n",
    "                * np.prod( [sum(( X[:,i] == x_input[i] ) & (Y==j)) / sum(Y==j)\n",
    "                            for i in range(X.shape[1])\n",
    "                           ])\n",
    "                ) for j in np.unique(Y)\n",
    "           }\n",
    "\n",
    "def get_outcome(results):\n",
    "    return max(results, key=results.get)"
   ]
  },
  {
   "cell_type": "code",
   "execution_count": 272,
   "metadata": {},
   "outputs": [
    {
     "name": "stdout",
     "output_type": "stream",
     "text": [
      "1.16 ms ± 60.2 µs per loop (mean ± std. dev. of 7 runs, 1000 loops each)\n"
     ]
    }
   ],
   "source": [
    "%%timeit\n",
    "X = np.array([['urgent', 'y', 'y'],\n",
    "       ['urgent', 'n', 'y'],\n",
    "       ['near', 'y', 'y'],\n",
    "       ['none', 'y', 'n'],\n",
    "       ['none', 'n', 'y'],\n",
    "       ['none', 'y', 'n'],\n",
    "       ['near', 'n', 'n'],\n",
    "       ['near', 'n', 'y'],\n",
    "       ['near', 'y', 'y'],\n",
    "       ['urgent', 'n', 'n']])\n",
    "Y = np.array(['party', 'study', 'party', \n",
    "           'party', 'pub', 'party', \n",
    "           'study', 'tv', 'party', \n",
    "           'study'])\n",
    "x_input = ['near', 'n', 'y']\n",
    "\n",
    "get_outcome(get_results(x_input,X,Y))"
   ]
  },
  {
   "cell_type": "markdown",
   "metadata": {},
   "source": [
    "## Pandas Implementation"
   ]
  },
  {
   "cell_type": "code",
   "execution_count": 273,
   "metadata": {},
   "outputs": [],
   "source": [
    "def prob(y, Y):\n",
    "    return Y.value_counts().loc[y] / Y.shape[0]\n",
    "def cond_prob(x, X, y, Y):\n",
    "    return sum((X==x)&(Y==y)) / Y.value_counts().loc[y]\n",
    "def mult_cond_prob(df, X, y, Y):\n",
    "    \n",
    "    return np.prod([cond_prob(v, df[k], y, df[Y]) \n",
    "                    for k,v in X.items()]\n",
    "                  ) * prob(y, df[Y])\n",
    "    \n",
    "def all_outcomes(df, X, Y):\n",
    "    outcomes = df[Y].unique()\n",
    "    probs = {}\n",
    "    for o in outcomes:\n",
    "        probs[o] = mult_cond_prob(df, X, o, Y)\n",
    "    return probs    "
   ]
  },
  {
   "cell_type": "code",
   "execution_count": 274,
   "metadata": {},
   "outputs": [
    {
     "name": "stdout",
     "output_type": "stream",
     "text": [
      "29.4 ms ± 1.64 ms per loop (mean ± std. dev. of 7 runs, 10 loops each)\n"
     ]
    }
   ],
   "source": [
    "%%timeit\n",
    "df = pd.DataFrame({'deadline':['urgent','urgent','near','none','none','none',\n",
    "                               'near','near','near','urgent'],\n",
    "                   'party':['y','n','y','y','n','y','n','n','y','n'],\n",
    "                   'lazy':['y','y','y','n','y','n','n','y','y','n'],\n",
    "                   'activity':['party','study','party','party','pub','party','study','tv','party','study']\n",
    "                  })\n",
    "all_outcomes(df, {'deadline':'near','party':'n','lazy':'y'}, 'activity')"
   ]
  }
 ],
 "metadata": {
  "kernelspec": {
   "display_name": "Python 3",
   "language": "python",
   "name": "python3"
  },
  "language_info": {
   "codemirror_mode": {
    "name": "ipython",
    "version": 3
   },
   "file_extension": ".py",
   "mimetype": "text/x-python",
   "name": "python",
   "nbconvert_exporter": "python",
   "pygments_lexer": "ipython3",
   "version": "3.7.4"
  }
 },
 "nbformat": 4,
 "nbformat_minor": 2
}
